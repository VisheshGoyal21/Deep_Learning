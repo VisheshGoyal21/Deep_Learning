{
 "cells": [
  {
   "cell_type": "code",
   "execution_count": 1,
   "id": "fe2cfb2e",
   "metadata": {
    "_cell_guid": "b1076dfc-b9ad-4769-8c92-a6c4dae69d19",
    "_uuid": "8f2839f25d086af736a60e9eeb907d3b93b6e0e5",
    "execution": {
     "iopub.execute_input": "2022-04-21T03:36:14.473150Z",
     "iopub.status.busy": "2022-04-21T03:36:14.472396Z",
     "iopub.status.idle": "2022-04-21T03:36:15.741841Z",
     "shell.execute_reply": "2022-04-21T03:36:15.740985Z"
    },
    "papermill": {
     "duration": 1.291267,
     "end_time": "2022-04-21T03:36:15.744549",
     "exception": false,
     "start_time": "2022-04-21T03:36:14.453282",
     "status": "completed"
    },
    "tags": []
   },
   "outputs": [],
   "source": [
    "import os\n",
    "import cv2\n",
    "import numpy as np\n",
    "import pandas as pd\n",
    "from matplotlib import pyplot as plt\n",
    "import seaborn as sns"
   ]
  },
  {
   "cell_type": "code",
   "execution_count": 2,
   "id": "704a6297",
   "metadata": {
    "execution": {
     "iopub.execute_input": "2022-04-21T03:36:15.776212Z",
     "iopub.status.busy": "2022-04-21T03:36:15.775936Z",
     "iopub.status.idle": "2022-04-21T03:36:21.633515Z",
     "shell.execute_reply": "2022-04-21T03:36:21.632687Z"
    },
    "papermill": {
     "duration": 5.875733,
     "end_time": "2022-04-21T03:36:21.635764",
     "exception": false,
     "start_time": "2022-04-21T03:36:15.760031",
     "status": "completed"
    },
    "tags": []
   },
   "outputs": [],
   "source": [
    "import keras\n",
    "from keras.models import Sequential \n",
    "from keras.layers import Dense\n",
    "from keras.layers import Conv2D\n",
    "from keras.layers import MaxPool2D\n",
    "from keras.layers import Flatten\n",
    "from keras.layers import Dropout\n",
    "from keras.layers import GlobalAveragePooling2D\n",
    "from keras.layers import BatchNormalization\n",
    "from keras.preprocessing.image import ImageDataGenerator\n",
    "from keras.callbacks import ReduceLROnPlateau\n",
    "from keras.utils.vis_utils import plot_model"
   ]
  },
  {
   "cell_type": "code",
   "execution_count": 3,
   "id": "e2b261ec",
   "metadata": {
    "execution": {
     "iopub.execute_input": "2022-04-21T03:36:21.667669Z",
     "iopub.status.busy": "2022-04-21T03:36:21.667366Z",
     "iopub.status.idle": "2022-04-21T03:36:21.880683Z",
     "shell.execute_reply": "2022-04-21T03:36:21.879924Z"
    },
    "papermill": {
     "duration": 0.232122,
     "end_time": "2022-04-21T03:36:21.882883",
     "exception": false,
     "start_time": "2022-04-21T03:36:21.650761",
     "status": "completed"
    },
    "tags": []
   },
   "outputs": [],
   "source": [
    "from sklearn import metrics\n",
    "from sklearn.metrics import accuracy_score\n",
    "from sklearn.metrics import precision_score\n",
    "from sklearn.metrics import recall_score\n",
    "from sklearn.metrics import f1_score\n",
    "from sklearn.metrics import roc_auc_score\n",
    "from sklearn.metrics import roc_curve\n",
    "from sklearn.metrics import classification_report\n",
    "from sklearn.metrics import confusion_matrix\n",
    "from sklearn.model_selection import train_test_split\n",
    "\n",
    "import warnings\n",
    "warnings.filterwarnings('ignore')"
   ]
  },
  {
   "cell_type": "code",
   "execution_count": 4,
   "id": "5c409425",
   "metadata": {
    "execution": {
     "iopub.execute_input": "2022-04-21T03:36:21.916540Z",
     "iopub.status.busy": "2022-04-21T03:36:21.916254Z",
     "iopub.status.idle": "2022-04-21T03:36:21.983213Z",
     "shell.execute_reply": "2022-04-21T03:36:21.982548Z"
    },
    "papermill": {
     "duration": 0.085587,
     "end_time": "2022-04-21T03:36:21.985002",
     "exception": false,
     "start_time": "2022-04-21T03:36:21.899415",
     "status": "completed"
    },
    "tags": []
   },
   "outputs": [
    {
     "name": "stderr",
     "output_type": "stream",
     "text": [
      "2022-04-21 03:36:21.960041: I tensorflow/core/common_runtime/process_util.cc:146] Creating new thread pool with default inter op setting: 2. Tune using inter_op_parallelism_threads for best performance.\n"
     ]
    }
   ],
   "source": [
    "classifier = Sequential()"
   ]
  },
  {
   "cell_type": "code",
   "execution_count": 5,
   "id": "92a519ab",
   "metadata": {
    "execution": {
     "iopub.execute_input": "2022-04-21T03:36:22.017801Z",
     "iopub.status.busy": "2022-04-21T03:36:22.016906Z",
     "iopub.status.idle": "2022-04-21T03:36:22.092782Z",
     "shell.execute_reply": "2022-04-21T03:36:22.091831Z"
    },
    "papermill": {
     "duration": 0.094634,
     "end_time": "2022-04-21T03:36:22.095051",
     "exception": false,
     "start_time": "2022-04-21T03:36:22.000417",
     "status": "completed"
    },
    "tags": []
   },
   "outputs": [],
   "source": [
    "classifier.add(Conv2D(32, (3, 3), strides=1, padding='same', activation='relu', input_shape=[64, 64, 3]))\n",
    "classifier.add(BatchNormalization())\n",
    "classifier.add(MaxPool2D((2,2), strides=2, padding='same'))"
   ]
  },
  {
   "cell_type": "code",
   "execution_count": 6,
   "id": "e546d20a",
   "metadata": {
    "execution": {
     "iopub.execute_input": "2022-04-21T03:36:22.126241Z",
     "iopub.status.busy": "2022-04-21T03:36:22.125963Z",
     "iopub.status.idle": "2022-04-21T03:36:22.155984Z",
     "shell.execute_reply": "2022-04-21T03:36:22.155103Z"
    },
    "papermill": {
     "duration": 0.048305,
     "end_time": "2022-04-21T03:36:22.158208",
     "exception": false,
     "start_time": "2022-04-21T03:36:22.109903",
     "status": "completed"
    },
    "tags": []
   },
   "outputs": [],
   "source": [
    "classifier.add(Conv2D(64, (3,3), strides=1, padding='same', activation='relu'))\n",
    "classifier.add(Dropout(0.2))\n",
    "classifier.add(BatchNormalization())\n",
    "classifier.add(MaxPool2D((2,2), strides=2, padding='same'))"
   ]
  },
  {
   "cell_type": "code",
   "execution_count": 7,
   "id": "39124637",
   "metadata": {
    "execution": {
     "iopub.execute_input": "2022-04-21T03:36:22.189812Z",
     "iopub.status.busy": "2022-04-21T03:36:22.189322Z",
     "iopub.status.idle": "2022-04-21T03:36:22.216231Z",
     "shell.execute_reply": "2022-04-21T03:36:22.215628Z"
    },
    "papermill": {
     "duration": 0.045159,
     "end_time": "2022-04-21T03:36:22.218291",
     "exception": false,
     "start_time": "2022-04-21T03:36:22.173132",
     "status": "completed"
    },
    "tags": []
   },
   "outputs": [],
   "source": [
    "classifier.add(Conv2D(64, (3,3), strides=1, padding='same', activation='relu'))\n",
    "classifier.add(BatchNormalization())\n",
    "classifier.add(MaxPool2D((2, 2), strides = 2, padding = 'same'))"
   ]
  },
  {
   "cell_type": "code",
   "execution_count": 8,
   "id": "2f4fe0df",
   "metadata": {
    "execution": {
     "iopub.execute_input": "2022-04-21T03:36:22.250781Z",
     "iopub.status.busy": "2022-04-21T03:36:22.250229Z",
     "iopub.status.idle": "2022-04-21T03:36:22.299287Z",
     "shell.execute_reply": "2022-04-21T03:36:22.298715Z"
    },
    "papermill": {
     "duration": 0.06775,
     "end_time": "2022-04-21T03:36:22.301299",
     "exception": false,
     "start_time": "2022-04-21T03:36:22.233549",
     "status": "completed"
    },
    "tags": []
   },
   "outputs": [],
   "source": [
    "classifier.add(Conv2D(128, (3, 3), strides = 1, padding = 'same', activation = 'relu'))\n",
    "classifier.add(Dropout(0.2))\n",
    "classifier.add(BatchNormalization())\n",
    "classifier.add(MaxPool2D((2, 2), strides = 2, padding = 'same'))\n",
    "classifier.add(Flatten())\n",
    "classifier.add(Dense(units = 128, activation = 'relu'))\n",
    "classifier.add(Dropout(0.2))\n",
    "#classifier.add(GlobalAveragePooling2D())"
   ]
  },
  {
   "cell_type": "code",
   "execution_count": 9,
   "id": "e27a0858",
   "metadata": {
    "execution": {
     "iopub.execute_input": "2022-04-21T03:36:22.333010Z",
     "iopub.status.busy": "2022-04-21T03:36:22.332696Z",
     "iopub.status.idle": "2022-04-21T03:36:22.347016Z",
     "shell.execute_reply": "2022-04-21T03:36:22.346090Z"
    },
    "papermill": {
     "duration": 0.032689,
     "end_time": "2022-04-21T03:36:22.349325",
     "exception": false,
     "start_time": "2022-04-21T03:36:22.316636",
     "status": "completed"
    },
    "tags": []
   },
   "outputs": [],
   "source": [
    "classifier.add(Dense(1, activation='sigmoid'))"
   ]
  },
  {
   "cell_type": "code",
   "execution_count": 10,
   "id": "6a70ac3f",
   "metadata": {
    "execution": {
     "iopub.execute_input": "2022-04-21T03:36:22.381769Z",
     "iopub.status.busy": "2022-04-21T03:36:22.381240Z",
     "iopub.status.idle": "2022-04-21T03:36:22.402634Z",
     "shell.execute_reply": "2022-04-21T03:36:22.401784Z"
    },
    "papermill": {
     "duration": 0.03994,
     "end_time": "2022-04-21T03:36:22.404999",
     "exception": false,
     "start_time": "2022-04-21T03:36:22.365059",
     "status": "completed"
    },
    "tags": []
   },
   "outputs": [
    {
     "name": "stdout",
     "output_type": "stream",
     "text": [
      "Model: \"sequential\"\n",
      "_________________________________________________________________\n",
      "Layer (type)                 Output Shape              Param #   \n",
      "=================================================================\n",
      "conv2d (Conv2D)              (None, 64, 64, 32)        896       \n",
      "_________________________________________________________________\n",
      "batch_normalization (BatchNo (None, 64, 64, 32)        128       \n",
      "_________________________________________________________________\n",
      "max_pooling2d (MaxPooling2D) (None, 32, 32, 32)        0         \n",
      "_________________________________________________________________\n",
      "conv2d_1 (Conv2D)            (None, 32, 32, 64)        18496     \n",
      "_________________________________________________________________\n",
      "dropout (Dropout)            (None, 32, 32, 64)        0         \n",
      "_________________________________________________________________\n",
      "batch_normalization_1 (Batch (None, 32, 32, 64)        256       \n",
      "_________________________________________________________________\n",
      "max_pooling2d_1 (MaxPooling2 (None, 16, 16, 64)        0         \n",
      "_________________________________________________________________\n",
      "conv2d_2 (Conv2D)            (None, 16, 16, 64)        36928     \n",
      "_________________________________________________________________\n",
      "batch_normalization_2 (Batch (None, 16, 16, 64)        256       \n",
      "_________________________________________________________________\n",
      "max_pooling2d_2 (MaxPooling2 (None, 8, 8, 64)          0         \n",
      "_________________________________________________________________\n",
      "conv2d_3 (Conv2D)            (None, 8, 8, 128)         73856     \n",
      "_________________________________________________________________\n",
      "dropout_1 (Dropout)          (None, 8, 8, 128)         0         \n",
      "_________________________________________________________________\n",
      "batch_normalization_3 (Batch (None, 8, 8, 128)         512       \n",
      "_________________________________________________________________\n",
      "max_pooling2d_3 (MaxPooling2 (None, 4, 4, 128)         0         \n",
      "_________________________________________________________________\n",
      "flatten (Flatten)            (None, 2048)              0         \n",
      "_________________________________________________________________\n",
      "dense (Dense)                (None, 128)               262272    \n",
      "_________________________________________________________________\n",
      "dropout_2 (Dropout)          (None, 128)               0         \n",
      "_________________________________________________________________\n",
      "dense_1 (Dense)              (None, 1)                 129       \n",
      "=================================================================\n",
      "Total params: 393,729\n",
      "Trainable params: 393,153\n",
      "Non-trainable params: 576\n",
      "_________________________________________________________________\n"
     ]
    }
   ],
   "source": [
    "classifier.compile(optimizer='adam', loss='binary_crossentropy', metrics=['accuracy'])\n",
    "classifier.summary()"
   ]
  },
  {
   "cell_type": "code",
   "execution_count": 11,
   "id": "d3de1628",
   "metadata": {
    "execution": {
     "iopub.execute_input": "2022-04-21T03:36:22.437740Z",
     "iopub.status.busy": "2022-04-21T03:36:22.437368Z",
     "iopub.status.idle": "2022-04-21T03:36:22.441383Z",
     "shell.execute_reply": "2022-04-21T03:36:22.440773Z"
    },
    "papermill": {
     "duration": 0.022903,
     "end_time": "2022-04-21T03:36:22.443283",
     "exception": false,
     "start_time": "2022-04-21T03:36:22.420380",
     "status": "completed"
    },
    "tags": []
   },
   "outputs": [],
   "source": [
    "train_datagen = ImageDataGenerator(\n",
    "                    rescale=1./255,\n",
    "                    shear_range=0.2,\n",
    "                    zoom_range=0.2,\n",
    "                    horizontal_flip=True\n",
    "                )"
   ]
  },
  {
   "cell_type": "code",
   "execution_count": 12,
   "id": "6dd7fe9e",
   "metadata": {
    "execution": {
     "iopub.execute_input": "2022-04-21T03:36:22.475727Z",
     "iopub.status.busy": "2022-04-21T03:36:22.475216Z",
     "iopub.status.idle": "2022-04-21T03:36:22.479335Z",
     "shell.execute_reply": "2022-04-21T03:36:22.478644Z"
    },
    "papermill": {
     "duration": 0.02207,
     "end_time": "2022-04-21T03:36:22.481074",
     "exception": false,
     "start_time": "2022-04-21T03:36:22.459004",
     "status": "completed"
    },
    "tags": []
   },
   "outputs": [],
   "source": [
    "test_datagen = ImageDataGenerator(rescale=1./255)"
   ]
  },
  {
   "cell_type": "code",
   "execution_count": 13,
   "id": "786339d9",
   "metadata": {
    "execution": {
     "iopub.execute_input": "2022-04-21T03:36:22.515212Z",
     "iopub.status.busy": "2022-04-21T03:36:22.514237Z",
     "iopub.status.idle": "2022-04-21T03:36:26.008487Z",
     "shell.execute_reply": "2022-04-21T03:36:26.007412Z"
    },
    "papermill": {
     "duration": 3.51371,
     "end_time": "2022-04-21T03:36:26.011646",
     "exception": false,
     "start_time": "2022-04-21T03:36:22.497936",
     "status": "completed"
    },
    "tags": []
   },
   "outputs": [
    {
     "name": "stdout",
     "output_type": "stream",
     "text": [
      "Found 5216 images belonging to 2 classes.\n"
     ]
    }
   ],
   "source": [
    "training_set = train_datagen.flow_from_directory('../input/chest-xray-pneumonia/chest_xray/train',\n",
    "                                                    target_size=(64,64),\n",
    "                                                    batch_size=32,\n",
    "                                                    class_mode='binary'\n",
    "                                                )"
   ]
  },
  {
   "cell_type": "code",
   "execution_count": 14,
   "id": "b3375d7f",
   "metadata": {
    "execution": {
     "iopub.execute_input": "2022-04-21T03:36:26.049596Z",
     "iopub.status.busy": "2022-04-21T03:36:26.048837Z",
     "iopub.status.idle": "2022-04-21T03:36:26.160375Z",
     "shell.execute_reply": "2022-04-21T03:36:26.159672Z"
    },
    "papermill": {
     "duration": 0.13068,
     "end_time": "2022-04-21T03:36:26.162306",
     "exception": false,
     "start_time": "2022-04-21T03:36:26.031626",
     "status": "completed"
    },
    "tags": []
   },
   "outputs": [
    {
     "name": "stdout",
     "output_type": "stream",
     "text": [
      "Found 624 images belonging to 2 classes.\n"
     ]
    }
   ],
   "source": [
    "test_set = test_datagen.flow_from_directory('../input/chest-xray-pneumonia/chest_xray/test',\n",
    "                                                    target_size=(64,64),\n",
    "                                                    batch_size=32,\n",
    "                                                    class_mode='binary'\n",
    "                                                )"
   ]
  },
  {
   "cell_type": "code",
   "execution_count": 15,
   "id": "5103bd78",
   "metadata": {
    "execution": {
     "iopub.execute_input": "2022-04-21T03:36:26.195110Z",
     "iopub.status.busy": "2022-04-21T03:36:26.194734Z",
     "iopub.status.idle": "2022-04-21T03:56:31.569147Z",
     "shell.execute_reply": "2022-04-21T03:56:31.568010Z"
    },
    "papermill": {
     "duration": 1205.393296,
     "end_time": "2022-04-21T03:56:31.571319",
     "exception": false,
     "start_time": "2022-04-21T03:36:26.178023",
     "status": "completed"
    },
    "tags": []
   },
   "outputs": [
    {
     "name": "stderr",
     "output_type": "stream",
     "text": [
      "2022-04-21 03:36:26.950477: I tensorflow/compiler/mlir/mlir_graph_optimization_pass.cc:185] None of the MLIR Optimization Passes are enabled (registered 2)\n"
     ]
    },
    {
     "name": "stdout",
     "output_type": "stream",
     "text": [
      "Epoch 1/10\n",
      "163/163 [==============================] - 129s 786ms/step - loss: 0.3055 - accuracy: 0.8903 - val_loss: 4.8557 - val_accuracy: 0.6250\n",
      "Epoch 2/10\n",
      "163/163 [==============================] - 92s 566ms/step - loss: 0.1716 - accuracy: 0.9379 - val_loss: 3.9487 - val_accuracy: 0.6250\n",
      "Epoch 3/10\n",
      "163/163 [==============================] - 91s 558ms/step - loss: 0.1557 - accuracy: 0.9415 - val_loss: 1.6932 - val_accuracy: 0.6250\n",
      "Epoch 4/10\n",
      "163/163 [==============================] - 92s 564ms/step - loss: 0.1502 - accuracy: 0.9452 - val_loss: 3.0102 - val_accuracy: 0.6250\n",
      "Epoch 5/10\n",
      "163/163 [==============================] - 91s 556ms/step - loss: 0.1345 - accuracy: 0.9496 - val_loss: 1.2359 - val_accuracy: 0.6106\n",
      "Epoch 6/10\n",
      "163/163 [==============================] - 90s 550ms/step - loss: 0.1285 - accuracy: 0.9559 - val_loss: 1.0883 - val_accuracy: 0.6667\n",
      "Epoch 7/10\n",
      "163/163 [==============================] - 90s 553ms/step - loss: 0.1202 - accuracy: 0.9563 - val_loss: 0.4825 - val_accuracy: 0.7901\n",
      "Epoch 8/10\n",
      "163/163 [==============================] - 91s 556ms/step - loss: 0.1121 - accuracy: 0.9632 - val_loss: 0.5303 - val_accuracy: 0.7756\n",
      "Epoch 9/10\n",
      "163/163 [==============================] - 91s 558ms/step - loss: 0.1176 - accuracy: 0.9574 - val_loss: 0.2748 - val_accuracy: 0.8830\n",
      "Epoch 10/10\n",
      "163/163 [==============================] - 92s 560ms/step - loss: 0.1022 - accuracy: 0.9634 - val_loss: 0.5166 - val_accuracy: 0.8478\n"
     ]
    },
    {
     "data": {
      "text/plain": [
       "<keras.callbacks.History at 0x7fc63cf29a90>"
      ]
     },
     "execution_count": 15,
     "metadata": {},
     "output_type": "execute_result"
    }
   ],
   "source": [
    "classifier.fit(x = training_set, validation_data = test_set, epochs = 10)"
   ]
  },
  {
   "cell_type": "code",
   "execution_count": 16,
   "id": "70eea2b5",
   "metadata": {
    "execution": {
     "iopub.execute_input": "2022-04-21T03:56:32.537822Z",
     "iopub.status.busy": "2022-04-21T03:56:32.537334Z",
     "iopub.status.idle": "2022-04-21T03:56:32.540970Z",
     "shell.execute_reply": "2022-04-21T03:56:32.540303Z"
    },
    "papermill": {
     "duration": 0.491428,
     "end_time": "2022-04-21T03:56:32.542919",
     "exception": false,
     "start_time": "2022-04-21T03:56:32.051491",
     "status": "completed"
    },
    "tags": []
   },
   "outputs": [],
   "source": [
    "from keras.preprocessing import image"
   ]
  },
  {
   "cell_type": "code",
   "execution_count": 17,
   "id": "1ece2ff3",
   "metadata": {
    "execution": {
     "iopub.execute_input": "2022-04-21T03:56:33.509038Z",
     "iopub.status.busy": "2022-04-21T03:56:33.508255Z",
     "iopub.status.idle": "2022-04-21T03:56:33.765213Z",
     "shell.execute_reply": "2022-04-21T03:56:33.764161Z"
    },
    "papermill": {
     "duration": 0.735383,
     "end_time": "2022-04-21T03:56:33.767719",
     "exception": false,
     "start_time": "2022-04-21T03:56:33.032336",
     "status": "completed"
    },
    "tags": []
   },
   "outputs": [],
   "source": [
    "test_image = image.load_img('../input/chest-xray-pneumonia/chest_xray/train/PNEUMONIA/person1000_bacteria_2931.jpeg', target_size=(64,64))\n",
    "test_image = image.img_to_array(test_image)\n",
    "test_image = np.expand_dims(test_image, axis=0) \n",
    "result = classifier.predict(test_image)\n",
    "training_set.class_indices\n",
    "if result[0][0] == 1:\n",
    "    prediction = 'Pneumonia'\n",
    "else:\n",
    "    prediction = 'Normal'"
   ]
  },
  {
   "cell_type": "code",
   "execution_count": 18,
   "id": "96d87f01",
   "metadata": {
    "execution": {
     "iopub.execute_input": "2022-04-21T03:56:34.714400Z",
     "iopub.status.busy": "2022-04-21T03:56:34.714119Z",
     "iopub.status.idle": "2022-04-21T03:56:34.718480Z",
     "shell.execute_reply": "2022-04-21T03:56:34.717860Z"
    },
    "papermill": {
     "duration": 0.487347,
     "end_time": "2022-04-21T03:56:34.720849",
     "exception": false,
     "start_time": "2022-04-21T03:56:34.233502",
     "status": "completed"
    },
    "tags": []
   },
   "outputs": [
    {
     "name": "stdout",
     "output_type": "stream",
     "text": [
      "Pneumonia\n"
     ]
    }
   ],
   "source": [
    "print(prediction)"
   ]
  },
  {
   "cell_type": "code",
   "execution_count": null,
   "id": "393b0e59",
   "metadata": {
    "papermill": {
     "duration": 0.462265,
     "end_time": "2022-04-21T03:56:35.655413",
     "exception": false,
     "start_time": "2022-04-21T03:56:35.193148",
     "status": "completed"
    },
    "tags": []
   },
   "outputs": [],
   "source": []
  }
 ],
 "metadata": {
  "kernelspec": {
   "display_name": "Python 3",
   "language": "python",
   "name": "python3"
  },
  "language_info": {
   "codemirror_mode": {
    "name": "ipython",
    "version": 3
   },
   "file_extension": ".py",
   "mimetype": "text/x-python",
   "name": "python",
   "nbconvert_exporter": "python",
   "pygments_lexer": "ipython3",
   "version": "3.7.12"
  },
  "papermill": {
   "default_parameters": {},
   "duration": 1233.656351,
   "end_time": "2022-04-21T03:56:38.850087",
   "environment_variables": {},
   "exception": null,
   "input_path": "__notebook__.ipynb",
   "output_path": "__notebook__.ipynb",
   "parameters": {},
   "start_time": "2022-04-21T03:36:05.193736",
   "version": "2.3.4"
  }
 },
 "nbformat": 4,
 "nbformat_minor": 5
}
